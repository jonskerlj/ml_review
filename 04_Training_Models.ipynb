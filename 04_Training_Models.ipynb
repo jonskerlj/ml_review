{
 "cells": [
  {
   "cell_type": "code",
   "execution_count": 1,
   "id": "304238eb-e381-4441-8b14-8d056238a512",
   "metadata": {},
   "outputs": [],
   "source": [
    "# Understanding models - helps with selecting appropriate model, good set of hyperparameters, debugging, error analysis ...\n",
    "# Linear Regression model - simple model\n",
    "# Two ways to train it: closed-form equation - directly compyte the model parameters that best fit the training set (minimize cost function)\n",
    "# 2) Interative optimization approach - Gradient Descent"
   ]
  },
  {
   "cell_type": "code",
   "execution_count": 2,
   "id": "b521e852-65b3-450f-911d-8fdce8fc7562",
   "metadata": {},
   "outputs": [],
   "source": [
    "# Linear model - makes a prediction by computing a weighted sum of the input features + a constant (called bias/intercept term)\n",
    "# To train the model - need to have accuracy measure - e.g. RMSE:\n",
    "# Need to find the value of all parameters that minimise RMSE\n",
    "# in practive - simpler to minize MSE"
   ]
  },
  {
   "cell_type": "code",
   "execution_count": 3,
   "id": "1a7ce1e9-cb5c-4fc2-986a-e09d7efef975",
   "metadata": {},
   "outputs": [],
   "source": [
    "# Normal Equation - methematical equation that gives a closed-form solutions which gives the result directly\n",
    "# Generate some linear-looking data:\n",
    "import numpy as np\n",
    "\n",
    "X = 2 * np.random.rand(100, 1)\n",
    "y = 4 + 3 * X + np.random.randn(100, 1)"
   ]
  },
  {
   "cell_type": "code",
   "execution_count": 4,
   "id": "9fed59f0-099c-4e27-b291-6d211c5a8783",
   "metadata": {},
   "outputs": [
    {
     "name": "stdout",
     "output_type": "stream",
     "text": [
      "[[3.97967586]\n",
      " [3.08444038]]\n"
     ]
    }
   ],
   "source": [
    "# Lets find the parameters using the Normal Equation\n",
    "X_b = np.c_[np.ones((100, 1)), X] # add x0 = 1 to each instance\n",
    "# Equation from the book, p. 116\n",
    "theta_best = np.linalg.inv(X_b.T.dot(X_b)).dot(X_b.T).dot(y)\n",
    "print(theta_best)"
   ]
  },
  {
   "cell_type": "code",
   "execution_count": 5,
   "id": "f86c2497-5918-4ffc-8f82-094b0c06fa7d",
   "metadata": {},
   "outputs": [
    {
     "name": "stdout",
     "output_type": "stream",
     "text": [
      "[[ 3.97967586]\n",
      " [10.14855662]]\n"
     ]
    }
   ],
   "source": [
    "# Can perform predictions\n",
    "X_new = np.array([[0], [2]])\n",
    "X_new_b = np.c_[np.ones((2, 1)), X_new] # add x0 = 1 to each instance\n",
    "y_predict = X_new_b.dot(theta_best)\n",
    "\n",
    "print(y_predict)"
   ]
  },
  {
   "cell_type": "code",
   "execution_count": 7,
   "id": "07ca958c-2978-4f0e-83b6-963de2c712c6",
   "metadata": {},
   "outputs": [
    {
     "data": {
      "image/png": "[encoded data removed]",
      "text/plain": [
       "<Figure size 640x480 with 1 Axes>"
      ]
     },
     "metadata": {},
     "output_type": "display_data"
    }
   ],
   "source": [
    "# Plotting model's predictions:\n",
    "import matplotlib.pyplot as plt\n",
    "\n",
    "plt.plot(X_new, y_predict, \"r-\")\n",
    "plt.plot(X, y, \"b.\")\n",
    "plt.axis([0, 2, 0, 15])\n",
    "plt.show()"
   ]
  },
  {
   "cell_type": "code",
   "execution_count": 8,
   "id": "d56fefc9-1372-458f-bc79-4953a5e66ccc",
   "metadata": {},
   "outputs": [
    {
     "data": {
      "text/plain": [
       "(array([3.97967586]), array([[3.08444038]]))"
      ]
     },
     "execution_count": 8,
     "metadata": {},
     "output_type": "execute_result"
    }
   ],
   "source": [
    "# Let's do the same using Scikit-Learn:\n",
    "from sklearn.linear_model import LinearRegression\n",
    "lin_reg = LinearRegression()\n",
    "lin_reg.fit(X, y)\n",
    "lin_reg.intercept_, lin_reg.coef_"
   ]
  },
  {
   "cell_type": "code",
   "execution_count": 9,
   "id": "322dcb57-365b-4257-bf56-1bc7f0cdc73a",
   "metadata": {},
   "outputs": [
    {
     "data": {
      "text/plain": [
       "array([[ 3.97967586],\n",
       "       [10.14855662]])"
      ]
     },
     "execution_count": 9,
     "metadata": {},
     "output_type": "execute_result"
    }
   ],
   "source": [
    "# prediction:\n",
    "lin_reg.predict(X_new)"
   ]
  },
  {
   "cell_type": "code",
   "execution_count": 10,
   "id": "61ca2ecb-ea30-4dce-9a2d-5d09d0f29a07",
   "metadata": {},
   "outputs": [
    {
     "data": {
      "text/plain": [
       "array([[3.97967586],\n",
       "       [3.08444038]])"
      ]
     },
     "execution_count": 10,
     "metadata": {},
     "output_type": "execute_result"
    }
   ],
   "source": [
    "# Lin.Reg. class is based on scipy.lingalg.lstsq() function - least squares\n",
    "theta_best_svd, residuals, rank, s = np.linalg.lstsq(X_b, y, rcond=1e-6)\n",
    "theta_best_svd"
   ]
  },
  {
   "cell_type": "code",
   "execution_count": 12,
   "id": "86fa6d1d-8c39-43a7-94bb-95a64a0e8e02",
   "metadata": {},
   "outputs": [
    {
     "data": {
      "text/plain": [
       "array([[3.97967586],\n",
       "       [3.08444038]])"
      ]
     },
     "execution_count": 12,
     "metadata": {},
     "output_type": "execute_result"
    }
   ],
   "source": [
    "# This function computes Normal Equation usnig the pseudoinverse of X - np.linalg.pinv()\n",
    "# Using pseudoinverse - more efficient and handles edge cases nicely\n",
    "np.linalg.pinv(X_b).dot(y)"
   ]
  },
  {
   "cell_type": "code",
   "execution_count": null,
   "id": "21dd980d-0516-4f6f-8e81-1ee9d2a1b842",
   "metadata": {},
   "outputs": [],
   "source": [
    "# Comp. Complexity:\n",
    "# inverse of X_trans*X - (n+1)x(n+1) mastrix (n - number of features)\n",
    "# inverting such matrix - O(n^2.4)-O(n^3): If you double the number of features, you multiply the computation time by:\n",
    "# 2^2.4=5.3-2^3=8\n",
    "# The computations gets very slow when the number of features grows large. But is linear with regards to the number of instances of the training set\n",
    "# Predictions are very fast - linear growth w.r.t. to features\n",
    "\n",
    "# For a large number of features another approach might be better -> Gradient descent"
   ]
  }
 ],
 "metadata": {
  "kernelspec": {
   "display_name": "Python 3 (ipykernel)",
   "language": "python",
   "name": "python3"
  },
  "language_info": {
   "codemirror_mode": {
    "name": "ipython",
    "version": 3
   },
   "file_extension": ".py",
   "mimetype": "text/x-python",
   "name": "python",
   "nbconvert_exporter": "python",
   "pygments_lexer": "ipython3",
   "version": "3.12.4"
  }
 },
 "nbformat": 4,
 "nbformat_minor": 5
}
