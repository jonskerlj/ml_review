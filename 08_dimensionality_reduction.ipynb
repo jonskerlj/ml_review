{
 "cells": [
  {
   "cell_type": "code",
   "execution_count": 1,
   "id": "62248bd8-8b5f-4016-85f1-4ae60e1d94d7",
   "metadata": {},
   "outputs": [],
   "source": [
    "# Python ≥3.5 is required\n",
    "import sys\n",
    "assert sys.version_info >= (3, 5)\n",
    "\n",
    "# Scikit-Learn ≥0.20 is required\n",
    "import sklearn\n",
    "assert sklearn.__version__ >= \"0.20\"\n",
    "\n",
    "# Common imports\n",
    "import numpy as np\n",
    "import os\n",
    "\n",
    "# to make this notebook's output stable across runs\n",
    "np.random.seed(42)\n",
    "\n",
    "# To plot pretty figures\n",
    "%matplotlib inline\n",
    "import matplotlib as mpl\n",
    "import matplotlib.pyplot as plt\n",
    "mpl.rc('axes', labelsize=14)\n",
    "mpl.rc('xtick', labelsize=12)\n",
    "mpl.rc('ytick', labelsize=12)\n",
    "\n",
    "# Where to save the figures\n",
    "PROJECT_ROOT_DIR = \".\"\n",
    "CHAPTER_ID = \"dim_reduction\"\n",
    "IMAGES_PATH = os.path.join(PROJECT_ROOT_DIR, \"images\", CHAPTER_ID)\n",
    "os.makedirs(IMAGES_PATH, exist_ok=True)\n",
    "\n",
    "def save_fig(fig_id, tight_layout=True, fig_extension=\"png\", resolution=300):\n",
    "    path = os.path.join(IMAGES_PATH, fig_id + \".\" + fig_extension)\n",
    "    print(\"Saving figure\", fig_id)\n",
    "    if tight_layout:\n",
    "        plt.tight_layout()\n",
    "    plt.savefig(path, format=fig_extension, dpi=resolution)"
   ]
  },
  {
   "cell_type": "code",
   "execution_count": 2,
   "id": "e32f21d3-1955-435a-97a1-227a0c42b28b",
   "metadata": {},
   "outputs": [],
   "source": [
    "# Many ML problems - thousands/millions of features for each training instance\n",
    "# - makes training slow and also harder to find a good solutions - referred to: curse of dimensionality\n",
    "\n",
    "# Solution - to reduce the dimensionality of the data by removing less important parts\n",
    "# - it does lose some information which results in slightly worse end result\n",
    "# - also makes the pipeline more complex and harder to maintain\n",
    "# - used when training is too slow\n",
    "# - on the plus side: DR may filter out some noise and unnecessary details and result in higher performance (but not in general)\n",
    "# - main purpose is to speed up training\n",
    "\n",
    "# Additionaly, DR can be useful for data visualization - reducing dimensions down to 2/3 allows it to plot a condensed view of high-dimensional training set\n",
    "# -> can help detecting any patterns, such as clusters\n",
    "# - also DataViz - essential to communicate your conclusions to people who are not data scientists\\"
   ]
  },
  {
   "cell_type": "code",
   "execution_count": 4,
   "id": "31edd1f8-2641-42c2-adf8-74cc73c9c343",
   "metadata": {},
   "outputs": [],
   "source": [
    "# Curse of Dimensionality\n",
    "# Behaviours are very different in high-dimensional space:\n",
    "# e.g. if you pick two points randomly in a unit square, the distance between them will be, on average, roughly 0.52\n",
    "# - if you do it in 3D - roughly 0.66\n",
    "# - 1 000 000 dimensional cube -> average distance about 408.25\n",
    "# -> how can two points be so far apart when they both lie within the same unit cube???\n",
    "# --> implies that high dimensional datasets are at rish of being very sparse - most trainin instances are likely to be far awy from each other\n",
    "#   - makes prediction less reliable than in lower dimensions, since they are based on much larger extrapolations\n",
    "\n",
    "# The more dimension the training set has -> the greater risk of overfitting\n",
    "# Could solve with more training instaces but sadly the given density grows exponentially with the number of dimensions"
   ]
  },
  {
   "cell_type": "code",
   "execution_count": 5,
   "id": "096c95d9-7647-49d7-aab2-0f54e31dbb23",
   "metadata": {},
   "outputs": [],
   "source": [
    "# 2 Main approaches for Dimensionality Reduction:\n",
    "# 1) projections\n",
    "# 2) Manifold Learning"
   ]
  },
  {
   "cell_type": "code",
   "execution_count": 6,
   "id": "e804f18b-ad68-4f84-98d6-2bd7cf6f7930",
   "metadata": {},
   "outputs": [],
   "source": [
    "# Projections\n",
    "# in most real-world problems: training instances are not spread out uniformly across all dimensions\n",
    "# many feaures are almost constant, while oters are hihgly correlated (e.g. MNIST)\n",
    "# -> all training instances actually lie within (or close to) a much lower-dimensional subspace pf the high-D space\n",
    "\n",
    "# Downsides:\n",
    "# - if the subspace twists and turns (Swiss roll toy dataset)\n",
    "# -> by projecting onto a plane -> squash different layers of the Swiss roll toghether\n",
    "# -> you want to unroll the Swiss roll to obtain the 2D dataset that is representative of the actual data"
   ]
  },
  {
   "cell_type": "code",
   "execution_count": null,
   "id": "13f357de-1a60-44c6-beb4-f70772871afa",
   "metadata": {},
   "outputs": [],
   "source": [
    "# Manifold Learning\n",
    "# - Swiss roll - an example of 2D manifold (= shape that can be bent and twisted in a higher-D space)\n",
    "# d-dimensional manifold is part of an n-dimensional space (d < n) that locally resembles a d-dimensional hyperplane\n",
    "# - in case of a Swiss roll, d=2 and n=3: it locally resembles a 2D plane, but it is rolled in the third dimension\n",
    "\n",
    "# Many DR algorithms worrk by modelling the manifold on which the training instances lie - Manifold Learning\n",
    "# - relies on manifold assumption (manifold hypothesis) - most real-world high-dimensional datasets lie close to a much lower-dimensional manifold\n",
    "# (often empirically observed)\n",
    "# E.g. for MNIST data set (connected lines, borders white, centered, etc.) -> if you randomly generate images, only a few would look like that\n",
    "# -> DOF for creating a digit <<<< than DOF if you want to creat any image - this constraint tend to squeeze the dataset int a lower d-manifold\n",
    "\n",
    "# Manifold assumtion often accompanied by another implicit assumption:\n",
    "# - task at hand will be simpler if express in the lower-dimensional space of the manifold\n",
    "# * need to be careful since it does not always hold\n",
    "\n",
    "# Reducing the dimensionality - usually speeds up the training but it may not always lead to better or simpler solutions - depends on the dataset"
   ]
  }
 ],
 "metadata": {
  "kernelspec": {
   "display_name": "Python 3 (ipykernel)",
   "language": "python",
   "name": "python3"
  },
  "language_info": {
   "codemirror_mode": {
    "name": "ipython",
    "version": 3
   },
   "file_extension": ".py",
   "mimetype": "text/x-python",
   "name": "python",
   "nbconvert_exporter": "python",
   "pygments_lexer": "ipython3",
   "version": "3.11.8"
  }
 },
 "nbformat": 4,
 "nbformat_minor": 5
}
