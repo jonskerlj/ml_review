{
 "cells": [
  {
   "cell_type": "code",
   "execution_count": 1,
   "id": "7564c67f-e745-4821-b12b-48f9e3c5ee0f",
   "metadata": {},
   "outputs": [],
   "source": [
    "# Python ≥3.5 is required\n",
    "import sys\n",
    "assert sys.version_info >= (3, 5)\n",
    "\n",
    "# Scikit-Learn ≥0.20 is required\n",
    "import sklearn\n",
    "assert sklearn.__version__ >= \"0.20\"\n",
    "\n",
    "try:\n",
    "    # %tensorflow_version only exists in Colab.\n",
    "    %tensorflow_version 2.x\n",
    "except Exception:\n",
    "    pass\n",
    "\n",
    "# TensorFlow ≥2.0 is required\n",
    "import tensorflow as tf\n",
    "assert tf.__version__ >= \"2.0\"\n",
    "\n",
    "# Common imports\n",
    "import numpy as np\n",
    "import os\n",
    "\n",
    "# to make this notebook's output stable across runs\n",
    "np.random.seed(42)\n",
    "\n",
    "# To plot pretty figures\n",
    "%matplotlib inline\n",
    "import matplotlib as mpl\n",
    "import matplotlib.pyplot as plt\n",
    "mpl.rc('axes', labelsize=14)\n",
    "mpl.rc('xtick', labelsize=12)\n",
    "mpl.rc('ytick', labelsize=12)\n",
    "\n",
    "# Where to save the figures\n",
    "PROJECT_ROOT_DIR = \".\"\n",
    "CHAPTER_ID = \"ann\"\n",
    "IMAGES_PATH = os.path.join(PROJECT_ROOT_DIR, \"images\", CHAPTER_ID)\n",
    "os.makedirs(IMAGES_PATH, exist_ok=True)"
   ]
  },
  {
   "cell_type": "code",
   "execution_count": 2,
   "id": "3b8913e9-5c94-4215-a460-b4b3e654ad49",
   "metadata": {},
   "outputs": [],
   "source": [
    "# Perceptrons\n",
    "\n",
    "import numpy as np\n",
    "from sklearn.datasets import load_iris\n",
    "from sklearn.linear_model import Perceptron\n",
    "\n",
    "iris = load_iris()\n",
    "X = iris.data[:, (2, 3)]  # petal length, petal width\n",
    "y = (iris.target == 0).astype(int)\n",
    "\n",
    "per_clf = Perceptron(max_iter=1000, tol=1e-3, random_state=42)\n",
    "per_clf.fit(X, y)\n",
    "\n",
    "y_pred = per_clf.predict([[2, 0.5]])"
   ]
  },
  {
   "cell_type": "code",
   "execution_count": 3,
   "id": "882e0101-c41f-4035-ad59-87d3b0ef56eb",
   "metadata": {},
   "outputs": [
    {
     "data": {
      "text/plain": [
       "array([1])"
      ]
     },
     "execution_count": 3,
     "metadata": {},
     "output_type": "execute_result"
    }
   ],
   "source": [
    "y_pred"
   ]
  },
  {
   "cell_type": "code",
   "execution_count": 4,
   "id": "4ab926e9-e5e9-4bcc-95ec-f2d6180298ad",
   "metadata": {},
   "outputs": [],
   "source": [
    "# Perceptron class is equivalent to Stochastic Gradient Descent with following hyper param:\n",
    "# loss=\"percetron\", learning_rate=\"constant\", eta0=1 (learning rate), pentalty=None (no regularization)\n",
    "\n",
    "# Perceptrons do not output a class probabilities, but make predictions based on a hard threshold (Logistic Regression better for this case)\n",
    "\n",
    "# One preceptron is a linear classification model - downside - cannot solve trivial problems such as XOR logic\n",
    "# However, some of the limitations can be eliminated by stacking multiple perceptrons together -> Multi-Layer Perceptrons (MLP)\n",
    "# - can solve XOR problem"
   ]
  },
  {
   "cell_type": "code",
   "execution_count": 5,
   "id": "f234159f-f07e-4f12-ab46-a60a72bd88d0",
   "metadata": {},
   "outputs": [],
   "source": [
    "# Multi-Layer Perceptron (MLP) and Backpropagation (TLU - threshold logic unit)\n",
    "\n",
    "# Backpropagation training algorithm:\n",
    "# - basically a Gradient Descent using an efficient technique for computing the gradients automatically\n",
    "# - in just two passes (forward and backward) - can compute the gradient of the network's error w.r.t. every single model parameter\n",
    "# -> how each connection weight and bias term should be tweaked to reduce the error\n",
    "# - then just performs a regular Gradient Descent step to tweak the weights\n",
    "# -> repeat until convergence\n",
    "\n",
    "# Many methods to compute gradients automatically - one used here colled reverse-mode autodiff\n",
    "# - fast and precise - well suited when the function to differentiate has manny variables (e.g. connection weights) and a few outputs (one loss)\n",
    "# - description on page 287,288\n",
    "\n",
    "# It is importnat to initialize the hidden layers' weights randomly\n",
    "# - if all of them are the same, e.g. all weights/biases=0, then back propagation will affect them all exactly the same, so they remain identical\n",
    "\n",
    "# For backprogagation to work - new activation function\n",
    "# - replaced step function with the logistic function - adds gradient for Gradient Descent\n",
    "# - function needs to be continuous and differentiable\n",
    "# - many options exist"
   ]
  },
  {
   "cell_type": "code",
   "execution_count": 6,
   "id": "15e84288-3821-4b64-ab87-723b80991293",
   "metadata": {},
   "outputs": [],
   "source": [
    "# Regression MLPs\n",
    "# - generally do not want to use an activation function for an output neuron - should be free to output any range of values\n",
    "# - but can put some restrictions, e.g. if you want an output to only be positive - ReLU function\n",
    "# - logistic function/hyperbolic tangent - can be used for predictions to fall into a given range by scaling to the appropriate range\n",
    "\n",
    "# Loss is usually mean squared error\n",
    "# - Mean absolute error can also be used, especially if you have a lot of outliers in the training set\n",
    "# - Huber loss - combination of both"
   ]
  },
  {
   "cell_type": "code",
   "execution_count": 8,
   "id": "5b42fbc4-3c1c-4938-8526-105dba730112",
   "metadata": {},
   "outputs": [],
   "source": [
    "# Classification MLPs\n",
    "# - for binary classification - just need one output neruon with logistic activation function - number between 0 - 1 (e.g. estimated probability of positive class)\n",
    "# - multilabel binary classification tasks - more output neruons necessary - 1 per binary label for positive class\n",
    "#   - output probabilities do not necessarily add up to 1 - allows the model to outout any combination of labels\n",
    "\n",
    "# Multiclass classification\n",
    "# in the case each instance belongs only to a single class, out of 3 or more - e.g. number classification (0 - 9)\n",
    "# - need to have one output neuron peer class, with softmax activation function for the whole output layers \n",
    "#  -> ensures that all the estimated probabilities are between 0 and 1 and they add up to 1, required when the classes are exclussive\n",
    "\n",
    "# When predicting probabilitiy distributions - cross-entropy is generally a good choice"
   ]
  },
  {
   "cell_type": "code",
   "execution_count": null,
   "id": "7e5ea4ee-b1b3-408a-8e34-aeb43013a78f",
   "metadata": {},
   "outputs": [],
   "source": []
  }
 ],
 "metadata": {
  "kernelspec": {
   "display_name": "Python 3 (ipykernel)",
   "language": "python",
   "name": "python3"
  },
  "language_info": {
   "codemirror_mode": {
    "name": "ipython",
    "version": 3
   },
   "file_extension": ".py",
   "mimetype": "text/x-python",
   "name": "python",
   "nbconvert_exporter": "python",
   "pygments_lexer": "ipython3",
   "version": "3.11.8"
  }
 },
 "nbformat": 4,
 "nbformat_minor": 5
}
